{
  "nbformat": 4,
  "nbformat_minor": 0,
  "metadata": {
    "colab": {
      "name": "Copy of rapids-colab-sept-2020.ipynb",
      "provenance": [],
      "collapsed_sections": [
        "AB3HMPrPyoNK",
        "Pg-kGqojyspl",
        "NJjHDF4Vyw6D",
        "kj3AQx0yue9F",
        "a4824pmSwGOT",
        "qYhkOAkJwWmt"
      ]
    },
    "kernelspec": {
      "name": "python3",
      "display_name": "Python 3"
    },
    "accelerator": "GPU"
  },
  "cells": [
    {
      "cell_type": "markdown",
      "metadata": {
        "id": "AB3HMPrPyoNK",
        "colab_type": "text"
      },
      "source": [
        "# Download the file"
      ]
    },
    {
      "cell_type": "code",
      "metadata": {
        "id": "3-JeRDJRr_1Z",
        "colab_type": "code",
        "colab": {
          "base_uri": "https://localhost:8080/",
          "height": 210
        },
        "outputId": "de951e6b-1930-4e67-d127-b5919dad525f"
      },
      "source": [
        "!wget \"http://eforexcel.com/wp/wp-content/uploads/2020/09/5m-Sales-Records.zip\""
      ],
      "execution_count": 22,
      "outputs": [
        {
          "output_type": "stream",
          "text": [
            "--2020-09-13 10:29:03--  http://eforexcel.com/wp/wp-content/uploads/2020/09/5m-Sales-Records.zip\n",
            "Resolving eforexcel.com (eforexcel.com)... 162.214.80.24\n",
            "Connecting to eforexcel.com (eforexcel.com)|162.214.80.24|:80... connected.\n",
            "HTTP request sent, awaiting response... 200 OK\n",
            "Length: 201708941 (192M) [application/zip]\n",
            "Saving to: ‘5m-Sales-Records.zip.2’\n",
            "\n",
            "5m-Sales-Records.zi 100%[===================>] 192.36M  17.6MB/s    in 12s     \n",
            "\n",
            "2020-09-13 10:29:16 (15.7 MB/s) - ‘5m-Sales-Records.zip.2’ saved [201708941/201708941]\n",
            "\n"
          ],
          "name": "stdout"
        }
      ]
    },
    {
      "cell_type": "code",
      "metadata": {
        "id": "Dxy34H8qr_49",
        "colab_type": "code",
        "colab": {}
      },
      "source": [
        "import zipfile\n",
        "import os\n",
        "with zipfile.ZipFile(\"/content/5m-Sales-Records.zip\", 'r') as zip_ref:\n",
        "    zip_ref.extractall()"
      ],
      "execution_count": 23,
      "outputs": []
    },
    {
      "cell_type": "code",
      "metadata": {
        "id": "knYlOmVBtT-m",
        "colab_type": "code",
        "colab": {
          "base_uri": "https://localhost:8080/",
          "height": 34
        },
        "outputId": "0f3b1b1b-5ff6-4971-ccd5-bc736d05805c"
      },
      "source": [
        "print (\"Size of file is {} MB\".format(os.path.getsize(\"/content/5m Sales Records.csv\") >> 20))"
      ],
      "execution_count": 24,
      "outputs": [
        {
          "output_type": "stream",
          "text": [
            "Size of file is 595 MB\n"
          ],
          "name": "stdout"
        }
      ]
    },
    {
      "cell_type": "markdown",
      "metadata": {
        "id": "Pg-kGqojyspl",
        "colab_type": "text"
      },
      "source": [
        "# Check GPU"
      ]
    },
    {
      "cell_type": "code",
      "metadata": {
        "id": "B0C8IV5TQnjN",
        "colab_type": "code",
        "colab": {
          "base_uri": "https://localhost:8080/",
          "height": 369
        },
        "outputId": "3f8454a0-8385-42e6-81c7-14b2268ea909"
      },
      "source": [
        "!nvidia-smi"
      ],
      "execution_count": 25,
      "outputs": [
        {
          "output_type": "stream",
          "text": [
            "Sun Sep 13 10:29:21 2020       \n",
            "+-----------------------------------------------------------------------------+\n",
            "| NVIDIA-SMI 450.66       Driver Version: 418.67       CUDA Version: 10.1     |\n",
            "|-------------------------------+----------------------+----------------------+\n",
            "| GPU  Name        Persistence-M| Bus-Id        Disp.A | Volatile Uncorr. ECC |\n",
            "| Fan  Temp  Perf  Pwr:Usage/Cap|         Memory-Usage | GPU-Util  Compute M. |\n",
            "|                               |                      |               MIG M. |\n",
            "|===============================+======================+======================|\n",
            "|   0  Tesla T4            Off  | 00000000:00:04.0 Off |                    0 |\n",
            "| N/A   46C    P0    27W /  70W |   4669MiB / 15079MiB |      0%      Default |\n",
            "|                               |                      |                 ERR! |\n",
            "+-------------------------------+----------------------+----------------------+\n",
            "                                                                               \n",
            "+-----------------------------------------------------------------------------+\n",
            "| Processes:                                                                  |\n",
            "|  GPU   GI   CI        PID   Type   Process name                  GPU Memory |\n",
            "|        ID   ID                                                   Usage      |\n",
            "|=============================================================================|\n",
            "|  No running processes found                                                 |\n",
            "+-----------------------------------------------------------------------------+\n"
          ],
          "name": "stdout"
        }
      ]
    },
    {
      "cell_type": "markdown",
      "metadata": {
        "id": "NJjHDF4Vyw6D",
        "colab_type": "text"
      },
      "source": [
        "# Install RAPIDS"
      ]
    },
    {
      "cell_type": "code",
      "metadata": {
        "id": "IZfw1pGvtn-t",
        "colab_type": "code",
        "colab": {
          "base_uri": "https://localhost:8080/",
          "height": 530
        },
        "outputId": "45ad2c91-0149-4b24-ef92-5312fd593e8b"
      },
      "source": [
        "!git clone https://github.com/rapidsai/rapidsai-csp-utils.git\n",
        "!bash rapidsai-csp-utils/colab/rapids-colab.sh stable\n",
        "\n",
        "import sys, os\n",
        "\n",
        "dist_package_index = sys.path.index('/usr/local/lib/python3.6/dist-packages')\n",
        "sys.path = sys.path[:dist_package_index] + ['/usr/local/lib/python3.6/site-packages'] + sys.path[dist_package_index:]\n",
        "sys.path\n",
        "exec(open('rapidsai-csp-utils/colab/update_modules.py').read(), globals())"
      ],
      "execution_count": 26,
      "outputs": [
        {
          "output_type": "stream",
          "text": [
            "fatal: destination path 'rapidsai-csp-utils' already exists and is not an empty directory.\n",
            "PLEASE READ\n",
            "********************************************************************************************************\n",
            "Changes:\n",
            "1. IMPORTANT CHANGES: RAPIDS on Colab will be pegged to 0.14 Stable until further notice.\n",
            "2. Default stable version is now 0.14.  Nightly will redirect to 0.14.\n",
            "3. You can now declare your RAPIDSAI version as a CLI option and skip the user prompts (ex: '0.14' or '0.15', between 0.13 to 0.14, without the quotes): \n",
            "        \"!bash rapidsai-csp-utils/colab/rapids-colab.sh <version/label>\"\n",
            "        Examples: '!bash rapidsai-csp-utils/colab/rapids-colab.sh 0.14', or '!bash rapidsai-csp-utils/colab/rapids-colab.sh stable', or '!bash rapidsai-csp-utils/colab/rapids-colab.sh s'\n",
            "                  '!bash rapidsai-csp-utils/colab/rapids-colab.sh 0.15, or '!bash rapidsai-csp-utils/colab/rapids-colab.sh nightly', or '!bash rapidsai-csp-utils/colab/rapids-colab.sh n'\n",
            "Enjoy using RAPIDS!  If you have any issues with or suggestions for RAPIDSAI on Colab, please create a bug request on https://github.com/rapidsai/rapidsai-csp-utils/issues/new.  Thanks!\n",
            "Starting to prep Colab for install RAPIDS Version 0.14 stable\n",
            "Checking for GPU type:\n",
            "***********************************************************************\n",
            "Woo! Your instance has the right kind of GPU, a 'Tesla T4'!\n",
            "***********************************************************************\n",
            "\n",
            "\n",
            "************************************************\n",
            "Your Google Colab instance has RAPIDS installed!\n",
            "************************************************\n",
            "***********************************************************************\n",
            "Let us check on those pyarrow and cffi versions...\n",
            "***********************************************************************\n",
            "\n",
            "You're running pyarrow 0.15.0 and are good to go!\n",
            "unloaded cffi 1.11.5\n",
            "loaded cffi 1.11.5\n"
          ],
          "name": "stdout"
        }
      ]
    },
    {
      "cell_type": "code",
      "metadata": {
        "id": "N0GgfngwtUEY",
        "colab_type": "code",
        "colab": {}
      },
      "source": [
        "import time\n",
        "import numpy as np\n",
        "import pandas as pd\n",
        "import cudf"
      ],
      "execution_count": 27,
      "outputs": []
    },
    {
      "cell_type": "code",
      "metadata": {
        "id": "6au4hUoHx7ib",
        "colab_type": "code",
        "colab": {}
      },
      "source": [
        "pd.set_option('display.float_format', lambda x: '%.1f' % x)"
      ],
      "execution_count": 28,
      "outputs": []
    },
    {
      "cell_type": "markdown",
      "metadata": {
        "id": "kj3AQx0yue9F",
        "colab_type": "text"
      },
      "source": [
        "# Read Time Comparision"
      ]
    },
    {
      "cell_type": "code",
      "metadata": {
        "id": "C9LSCOfiukF3",
        "colab_type": "code",
        "colab": {
          "base_uri": "https://localhost:8080/",
          "height": 34
        },
        "outputId": "60a1d6f1-5d0f-48b1-c4f4-95d175504646"
      },
      "source": [
        "s = time.time()\n",
        "df_pandas = pd.read_csv(\"/content/5m Sales Records.csv\")\n",
        "e = time.time()\n",
        "pd_time = e - s\n",
        "print(\"Pandas Loading Time = {}\".format(pd_time))"
      ],
      "execution_count": 29,
      "outputs": [
        {
          "output_type": "stream",
          "text": [
            "Pandas Loading Time = 8.285161018371582\n"
          ],
          "name": "stdout"
        }
      ]
    },
    {
      "cell_type": "code",
      "metadata": {
        "id": "nF-jdyp5wAlz",
        "colab_type": "code",
        "colab": {
          "base_uri": "https://localhost:8080/",
          "height": 360
        },
        "outputId": "7cbf8ba0-1ed7-4e9e-fc58-9d161cd44284"
      },
      "source": [
        "df_pandas.head()"
      ],
      "execution_count": 30,
      "outputs": [
        {
          "output_type": "execute_result",
          "data": {
            "text/html": [
              "<div>\n",
              "<style scoped>\n",
              "    .dataframe tbody tr th:only-of-type {\n",
              "        vertical-align: middle;\n",
              "    }\n",
              "\n",
              "    .dataframe tbody tr th {\n",
              "        vertical-align: top;\n",
              "    }\n",
              "\n",
              "    .dataframe thead th {\n",
              "        text-align: right;\n",
              "    }\n",
              "</style>\n",
              "<table border=\"1\" class=\"dataframe\">\n",
              "  <thead>\n",
              "    <tr style=\"text-align: right;\">\n",
              "      <th></th>\n",
              "      <th>Region</th>\n",
              "      <th>Country</th>\n",
              "      <th>Item Type</th>\n",
              "      <th>Sales Channel</th>\n",
              "      <th>Order Priority</th>\n",
              "      <th>Order Date</th>\n",
              "      <th>Order ID</th>\n",
              "      <th>Ship Date</th>\n",
              "      <th>Units Sold</th>\n",
              "      <th>Unit Price</th>\n",
              "      <th>Unit Cost</th>\n",
              "      <th>Total Revenue</th>\n",
              "      <th>Total Cost</th>\n",
              "      <th>Total Profit</th>\n",
              "    </tr>\n",
              "  </thead>\n",
              "  <tbody>\n",
              "    <tr>\n",
              "      <th>0</th>\n",
              "      <td>Australia and Oceania</td>\n",
              "      <td>Palau</td>\n",
              "      <td>Office Supplies</td>\n",
              "      <td>Online</td>\n",
              "      <td>H</td>\n",
              "      <td>3/6/2016</td>\n",
              "      <td>517073523</td>\n",
              "      <td>3/26/2016</td>\n",
              "      <td>2401</td>\n",
              "      <td>651.2</td>\n",
              "      <td>525.0</td>\n",
              "      <td>1563555.2</td>\n",
              "      <td>1260429.0</td>\n",
              "      <td>303126.2</td>\n",
              "    </tr>\n",
              "    <tr>\n",
              "      <th>1</th>\n",
              "      <td>Europe</td>\n",
              "      <td>Poland</td>\n",
              "      <td>Beverages</td>\n",
              "      <td>Online</td>\n",
              "      <td>L</td>\n",
              "      <td>4/18/2010</td>\n",
              "      <td>380507028</td>\n",
              "      <td>5/26/2010</td>\n",
              "      <td>9340</td>\n",
              "      <td>47.5</td>\n",
              "      <td>31.8</td>\n",
              "      <td>443183.0</td>\n",
              "      <td>296918.6</td>\n",
              "      <td>146264.4</td>\n",
              "    </tr>\n",
              "    <tr>\n",
              "      <th>2</th>\n",
              "      <td>North America</td>\n",
              "      <td>Canada</td>\n",
              "      <td>Cereal</td>\n",
              "      <td>Online</td>\n",
              "      <td>M</td>\n",
              "      <td>1/8/2015</td>\n",
              "      <td>504055583</td>\n",
              "      <td>1/31/2015</td>\n",
              "      <td>103</td>\n",
              "      <td>205.7</td>\n",
              "      <td>117.1</td>\n",
              "      <td>21187.1</td>\n",
              "      <td>12062.3</td>\n",
              "      <td>9124.8</td>\n",
              "    </tr>\n",
              "    <tr>\n",
              "      <th>3</th>\n",
              "      <td>Europe</td>\n",
              "      <td>Belarus</td>\n",
              "      <td>Snacks</td>\n",
              "      <td>Online</td>\n",
              "      <td>C</td>\n",
              "      <td>1/19/2014</td>\n",
              "      <td>954955518</td>\n",
              "      <td>2/27/2014</td>\n",
              "      <td>1414</td>\n",
              "      <td>152.6</td>\n",
              "      <td>97.4</td>\n",
              "      <td>215748.1</td>\n",
              "      <td>137780.2</td>\n",
              "      <td>77968.0</td>\n",
              "    </tr>\n",
              "    <tr>\n",
              "      <th>4</th>\n",
              "      <td>Middle East and North Africa</td>\n",
              "      <td>Oman</td>\n",
              "      <td>Cereal</td>\n",
              "      <td>Offline</td>\n",
              "      <td>H</td>\n",
              "      <td>4/26/2019</td>\n",
              "      <td>970755660</td>\n",
              "      <td>6/2/2019</td>\n",
              "      <td>7027</td>\n",
              "      <td>205.7</td>\n",
              "      <td>117.1</td>\n",
              "      <td>1445453.9</td>\n",
              "      <td>822932.0</td>\n",
              "      <td>622521.9</td>\n",
              "    </tr>\n",
              "  </tbody>\n",
              "</table>\n",
              "</div>"
            ],
            "text/plain": [
              "                         Region  Country  ... Total Cost Total Profit\n",
              "0         Australia and Oceania    Palau  ...  1260429.0     303126.2\n",
              "1                        Europe   Poland  ...   296918.6     146264.4\n",
              "2                 North America   Canada  ...    12062.3       9124.8\n",
              "3                        Europe  Belarus  ...   137780.2      77968.0\n",
              "4  Middle East and North Africa     Oman  ...   822932.0     622521.9\n",
              "\n",
              "[5 rows x 14 columns]"
            ]
          },
          "metadata": {
            "tags": []
          },
          "execution_count": 30
        }
      ]
    },
    {
      "cell_type": "code",
      "metadata": {
        "id": "SporgeQcukJF",
        "colab_type": "code",
        "colab": {
          "base_uri": "https://localhost:8080/",
          "height": 34
        },
        "outputId": "1283c6c3-3934-4af6-af2f-130eb3a00068"
      },
      "source": [
        "s = time.time()\n",
        "df_cudf = cudf.read_csv(\"/content/5m Sales Records.csv\")\n",
        "e = time.time()\n",
        "cuDF_time = e - s \n",
        "print(\"cuDF Loading Time = {}\".format(cuDF_time))"
      ],
      "execution_count": 31,
      "outputs": [
        {
          "output_type": "stream",
          "text": [
            "cuDF Loading Time = 0.5019645690917969\n"
          ],
          "name": "stdout"
        }
      ]
    },
    {
      "cell_type": "code",
      "metadata": {
        "id": "NWQPGw2WvpGn",
        "colab_type": "code",
        "colab": {
          "base_uri": "https://localhost:8080/",
          "height": 34
        },
        "outputId": "9a45919a-3e23-4843-c188-53ababe94a4f"
      },
      "source": [
        "pd_time > cuDF_time"
      ],
      "execution_count": 32,
      "outputs": [
        {
          "output_type": "execute_result",
          "data": {
            "text/plain": [
              "True"
            ]
          },
          "metadata": {
            "tags": []
          },
          "execution_count": 32
        }
      ]
    },
    {
      "cell_type": "code",
      "metadata": {
        "id": "KNbPyFeCukL9",
        "colab_type": "code",
        "colab": {
          "base_uri": "https://localhost:8080/",
          "height": 34
        },
        "outputId": "d39bff5a-5366-4cc9-b095-9bdd32060e46"
      },
      "source": [
        "pd_time / cuDF_time"
      ],
      "execution_count": 33,
      "outputs": [
        {
          "output_type": "execute_result",
          "data": {
            "text/plain": [
              "16.505469765250368"
            ]
          },
          "metadata": {
            "tags": []
          },
          "execution_count": 33
        }
      ]
    },
    {
      "cell_type": "markdown",
      "metadata": {
        "id": "a4824pmSwGOT",
        "colab_type": "text"
      },
      "source": [
        "# Concat Time Comparision"
      ]
    },
    {
      "cell_type": "code",
      "metadata": {
        "id": "ZVNsdtCAvymS",
        "colab_type": "code",
        "colab": {
          "base_uri": "https://localhost:8080/",
          "height": 34
        },
        "outputId": "d5d577aa-47a4-42a8-990f-f7446e56890b"
      },
      "source": [
        "s = time.time()\n",
        "df_pandas_concat = pd.concat([df_pandas for _ in range(5)])\n",
        "e = time.time()\n",
        "pd_time = e - s\n",
        "print(\"Pandas Concat Time = {}\".format(pd_time))"
      ],
      "execution_count": 34,
      "outputs": [
        {
          "output_type": "stream",
          "text": [
            "Pandas Concat Time = 4.841130256652832\n"
          ],
          "name": "stdout"
        }
      ]
    },
    {
      "cell_type": "code",
      "metadata": {
        "id": "p4PJl68JwHDh",
        "colab_type": "code",
        "colab": {
          "base_uri": "https://localhost:8080/",
          "height": 34
        },
        "outputId": "c780e3d8-2dce-46ee-89d9-3159f13db1ab"
      },
      "source": [
        "s = time.time()\n",
        "df_cudf_concat = cudf.concat([df_cudf for _ in range(5)])\n",
        "e = time.time()\n",
        "cuDF_time = e - s\n",
        "print(\"cuDF Concat Time = {}\".format(cuDF_time))"
      ],
      "execution_count": 35,
      "outputs": [
        {
          "output_type": "stream",
          "text": [
            "cuDF Concat Time = 0.09721565246582031\n"
          ],
          "name": "stdout"
        }
      ]
    },
    {
      "cell_type": "code",
      "metadata": {
        "id": "s4Q-BXoUwHGD",
        "colab_type": "code",
        "colab": {
          "base_uri": "https://localhost:8080/",
          "height": 34
        },
        "outputId": "09ef3220-9225-48d4-dd3b-e430ef85d6ed"
      },
      "source": [
        "pd_time > cuDF_time"
      ],
      "execution_count": 36,
      "outputs": [
        {
          "output_type": "execute_result",
          "data": {
            "text/plain": [
              "True"
            ]
          },
          "metadata": {
            "tags": []
          },
          "execution_count": 36
        }
      ]
    },
    {
      "cell_type": "code",
      "metadata": {
        "id": "uUPQ4reAwHKn",
        "colab_type": "code",
        "colab": {
          "base_uri": "https://localhost:8080/",
          "height": 34
        },
        "outputId": "be1c755a-76eb-4294-a515-fc35e3765354"
      },
      "source": [
        "pd_time / cuDF_time"
      ],
      "execution_count": 37,
      "outputs": [
        {
          "output_type": "execute_result",
          "data": {
            "text/plain": [
              "49.79784771135396"
            ]
          },
          "metadata": {
            "tags": []
          },
          "execution_count": 37
        }
      ]
    },
    {
      "cell_type": "markdown",
      "metadata": {
        "id": "qYhkOAkJwWmt",
        "colab_type": "text"
      },
      "source": [
        "# GroupBy Time Comparision"
      ]
    },
    {
      "cell_type": "code",
      "metadata": {
        "id": "KtNFrKBBwZNe",
        "colab_type": "code",
        "colab": {
          "base_uri": "https://localhost:8080/",
          "height": 193
        },
        "outputId": "71ac4f10-f7eb-47b7-8381-ec01231eef08"
      },
      "source": [
        "s = time.time()\n",
        "print(df_pandas.groupby(\"Region\")[\"Total Profit\"].sum())\n",
        "e = time.time()\n",
        "pd_time = e - s\n",
        "print(\"Pandas GroupBy Calculation Time = {}\".format(pd_time))"
      ],
      "execution_count": 38,
      "outputs": [
        {
          "output_type": "stream",
          "text": [
            "Region\n",
            "Asia                                286686809544.5\n",
            "Australia and Oceania               159289739668.2\n",
            "Central America and the Caribbean   212358212842.6\n",
            "Europe                              508972722261.1\n",
            "Middle East and North Africa        244077925345.9\n",
            "North America                        42491973495.3\n",
            "Sub-Saharan Africa                  509522251166.1\n",
            "Name: Total Profit, dtype: float64\n",
            "Pandas GroupBy Calculation Time = 0.3099544048309326\n"
          ],
          "name": "stdout"
        }
      ]
    },
    {
      "cell_type": "code",
      "metadata": {
        "id": "YcoYrt-AwZQ7",
        "colab_type": "code",
        "colab": {
          "base_uri": "https://localhost:8080/",
          "height": 193
        },
        "outputId": "f79ba847-1555-438d-e8a4-8f787cacc3bb"
      },
      "source": [
        "s = time.time()\n",
        "print(df_cudf.groupby(\"Region\")[\"Total Profit\"].sum())\n",
        "e = time.time()\n",
        "cuDF_time  = e - s\n",
        "print(\"Pandas GroupBy Calculation Time = {}\".format(cuDF_time))"
      ],
      "execution_count": 39,
      "outputs": [
        {
          "output_type": "stream",
          "text": [
            "Region\n",
            "Asia                                286686809544.5\n",
            "Australia and Oceania               159289739668.2\n",
            "Central America and the Caribbean   212358212842.6\n",
            "Europe                              508972722261.1\n",
            "Middle East and North Africa        244077925345.9\n",
            "North America                        42491973495.3\n",
            "Sub-Saharan Africa                  509522251166.1\n",
            "Name: Total Profit, dtype: float64\n",
            "Pandas GroupBy Calculation Time = 0.06271958351135254\n"
          ],
          "name": "stdout"
        }
      ]
    },
    {
      "cell_type": "code",
      "metadata": {
        "id": "DGB0kmyXwv9S",
        "colab_type": "code",
        "colab": {
          "base_uri": "https://localhost:8080/",
          "height": 34
        },
        "outputId": "168af560-2d70-445b-fc44-4579fe895f94"
      },
      "source": [
        "pd_time > cuDF_time"
      ],
      "execution_count": 40,
      "outputs": [
        {
          "output_type": "execute_result",
          "data": {
            "text/plain": [
              "True"
            ]
          },
          "metadata": {
            "tags": []
          },
          "execution_count": 40
        }
      ]
    },
    {
      "cell_type": "code",
      "metadata": {
        "id": "EoX5Mga9wwAu",
        "colab_type": "code",
        "colab": {
          "base_uri": "https://localhost:8080/",
          "height": 34
        },
        "outputId": "c273f090-de9f-4d91-b14d-922d10f42fba"
      },
      "source": [
        "pd_time / cuDF_time"
      ],
      "execution_count": 41,
      "outputs": [
        {
          "output_type": "execute_result",
          "data": {
            "text/plain": [
              "4.941907893486401"
            ]
          },
          "metadata": {
            "tags": []
          },
          "execution_count": 41
        }
      ]
    },
    {
      "cell_type": "code",
      "metadata": {
        "id": "X1UA2-ZrASIe",
        "colab_type": "code",
        "colab": {}
      },
      "source": [
        ""
      ],
      "execution_count": 41,
      "outputs": []
    }
  ]
}