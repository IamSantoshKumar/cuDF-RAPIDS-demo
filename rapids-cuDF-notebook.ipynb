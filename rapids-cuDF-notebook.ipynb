{
  "nbformat": 4,
  "nbformat_minor": 0,
  "metadata": {
    "colab": {
      "name": "rapids-df-demo.ipynb",
      "provenance": [],
      "collapsed_sections": []
    },
    "kernelspec": {
      "name": "python3",
      "display_name": "Python 3"
    },
    "accelerator": "GPU"
  },
  "cells": [
    {
      "cell_type": "code",
      "metadata": {
        "id": "ol8baOImEksK",
        "colab_type": "code",
        "outputId": "7534bd9b-55bc-4981-e89d-f75ce3c58dfd",
        "colab": {
          "base_uri": "https://localhost:8080/",
          "height": 35
        }
      },
      "source": [
        "from google.colab import drive\n",
        "drive.mount('/content/drive')"
      ],
      "execution_count": 2,
      "outputs": [
        {
          "output_type": "stream",
          "text": [
            "Drive already mounted at /content/drive; to attempt to forcibly remount, call drive.mount(\"/content/drive\", force_remount=True).\n"
          ],
          "name": "stdout"
        }
      ]
    },
    {
      "cell_type": "code",
      "metadata": {
        "id": "bQMHjokZErbI",
        "colab_type": "code",
        "colab": {}
      },
      "source": [
        "file_name = \"/content/drive/My Drive/data/data.csv\""
      ],
      "execution_count": 0,
      "outputs": []
    },
    {
      "cell_type": "code",
      "metadata": {
        "id": "OSltTgTsEu-i",
        "colab_type": "code",
        "colab": {}
      },
      "source": [
        "import os"
      ],
      "execution_count": 0,
      "outputs": []
    },
    {
      "cell_type": "code",
      "metadata": {
        "id": "3-yvcJbbEx-E",
        "colab_type": "code",
        "outputId": "b44c3910-f4d6-42aa-b085-1f361dc9e52b",
        "colab": {
          "base_uri": "https://localhost:8080/",
          "height": 35
        }
      },
      "source": [
        "print (\"Size of file is {} MB\".format(os.path.getsize(file_name) >> 20))"
      ],
      "execution_count": 5,
      "outputs": [
        {
          "output_type": "stream",
          "text": [
            "Size of file is 271 MB\n"
          ],
          "name": "stdout"
        }
      ]
    },
    {
      "cell_type": "code",
      "metadata": {
        "id": "d-EBvpUPwvXF",
        "colab_type": "code",
        "outputId": "34f4248a-8edd-47d7-ca91-e164065124d1",
        "colab": {
          "base_uri": "https://localhost:8080/",
          "height": 312
        }
      },
      "source": [
        "!nvidia-smi "
      ],
      "execution_count": 6,
      "outputs": [
        {
          "output_type": "stream",
          "text": [
            "Sun Jan 19 18:13:52 2020       \n",
            "+-----------------------------------------------------------------------------+\n",
            "| NVIDIA-SMI 440.44       Driver Version: 418.67       CUDA Version: 10.1     |\n",
            "|-------------------------------+----------------------+----------------------+\n",
            "| GPU  Name        Persistence-M| Bus-Id        Disp.A | Volatile Uncorr. ECC |\n",
            "| Fan  Temp  Perf  Pwr:Usage/Cap|         Memory-Usage | GPU-Util  Compute M. |\n",
            "|===============================+======================+======================|\n",
            "|   0  Tesla T4            Off  | 00000000:00:04.0 Off |                    0 |\n",
            "| N/A   48C    P8    10W /  70W |      0MiB / 15079MiB |      0%      Default |\n",
            "+-------------------------------+----------------------+----------------------+\n",
            "                                                                               \n",
            "+-----------------------------------------------------------------------------+\n",
            "| Processes:                                                       GPU Memory |\n",
            "|  GPU       PID   Type   Process name                             Usage      |\n",
            "|=============================================================================|\n",
            "|  No running processes found                                                 |\n",
            "+-----------------------------------------------------------------------------+\n"
          ],
          "name": "stdout"
        }
      ]
    },
    {
      "cell_type": "code",
      "metadata": {
        "id": "H8pISFWyxLDR",
        "colab_type": "code",
        "outputId": "07d09d26-3081-4be7-94f6-f73cdb4c1e2b",
        "colab": {
          "base_uri": "https://localhost:8080/",
          "height": 87
        }
      },
      "source": [
        "!nvcc -V"
      ],
      "execution_count": 7,
      "outputs": [
        {
          "output_type": "stream",
          "text": [
            "nvcc: NVIDIA (R) Cuda compiler driver\n",
            "Copyright (c) 2005-2018 NVIDIA Corporation\n",
            "Built on Sat_Aug_25_21:08:01_CDT_2018\n",
            "Cuda compilation tools, release 10.0, V10.0.130\n"
          ],
          "name": "stdout"
        }
      ]
    },
    {
      "cell_type": "code",
      "metadata": {
        "id": "rYgwDGMYwvxD",
        "colab_type": "code",
        "outputId": "83da0394-15e6-40b1-fd03-21fd5aeca1b5",
        "colab": {
          "base_uri": "https://localhost:8080/",
          "height": 52
        }
      },
      "source": [
        "!python -V; pip -V"
      ],
      "execution_count": 8,
      "outputs": [
        {
          "output_type": "stream",
          "text": [
            "Python 3.6.9\n",
            "pip 19.3.1 from /usr/local/lib/python3.6/dist-packages/pip (python 3.6)\n"
          ],
          "name": "stdout"
        }
      ]
    },
    {
      "cell_type": "code",
      "metadata": {
        "id": "lvYI0Qv5xkfT",
        "colab_type": "code",
        "outputId": "93acfbb6-84b9-4ef1-c182-c608a66d3eab",
        "colab": {
          "base_uri": "https://localhost:8080/",
          "height": 69
        }
      },
      "source": [
        "!pip install numba"
      ],
      "execution_count": 9,
      "outputs": [
        {
          "output_type": "stream",
          "text": [
            "Requirement already satisfied: numba in /usr/local/lib/python3.6/dist-packages (0.41.0)\n",
            "Requirement already satisfied: llvmlite>=0.26.0dev0 in /usr/local/lib/python3.6/dist-packages (from numba) (0.31.0)\n",
            "Requirement already satisfied: numpy in /usr/local/lib/python3.6/dist-packages (from numba) (1.17.5)\n"
          ],
          "name": "stdout"
        }
      ]
    },
    {
      "cell_type": "code",
      "metadata": {
        "id": "dfgNuY_-xn-u",
        "colab_type": "code",
        "colab": {}
      },
      "source": [
        "import os\n",
        "os.environ['NUMBAPRO_NVVM']='/usr/local/cuda/nvvm/lib64/libnvvm.so'\n",
        "os.environ['NUMBAPRO_LIBDEVICE']='/usr/local/cuda/nvvm/libdevice/'"
      ],
      "execution_count": 0,
      "outputs": []
    },
    {
      "cell_type": "code",
      "metadata": {
        "id": "wGqzlyPfxoEq",
        "colab_type": "code",
        "outputId": "b1991146-51c3-4f98-fd91-6a1d01a082a6",
        "colab": {
          "base_uri": "https://localhost:8080/",
          "height": 243
        }
      },
      "source": [
        "!pip install cudf-cuda100"
      ],
      "execution_count": 11,
      "outputs": [
        {
          "output_type": "stream",
          "text": [
            "Requirement already satisfied: cudf-cuda100 in /usr/local/lib/python3.6/dist-packages (0.6.1)\n",
            "Requirement already satisfied: cffi>=1.0.0 in /usr/local/lib/python3.6/dist-packages (from cudf-cuda100) (1.13.2)\n",
            "Requirement already satisfied: pandas>=0.23.4 in /usr/local/lib/python3.6/dist-packages (from cudf-cuda100) (0.25.3)\n",
            "Requirement already satisfied: nvstrings-cuda100 in /usr/local/lib/python3.6/dist-packages (from cudf-cuda100) (0.3.0.post1)\n",
            "Requirement already satisfied: pycparser==2.19 in /usr/local/lib/python3.6/dist-packages (from cudf-cuda100) (2.19)\n",
            "Requirement already satisfied: cython<0.30,>=0.29 in /usr/local/lib/python3.6/dist-packages (from cudf-cuda100) (0.29.14)\n",
            "Requirement already satisfied: pyarrow==0.12.1 in /usr/local/lib/python3.6/dist-packages (from cudf-cuda100) (0.12.1)\n",
            "Requirement already satisfied: numpy>=1.14 in /usr/local/lib/python3.6/dist-packages (from cudf-cuda100) (1.17.5)\n",
            "Requirement already satisfied: numba<0.42,>=0.40.0 in /usr/local/lib/python3.6/dist-packages (from cudf-cuda100) (0.41.0)\n",
            "Requirement already satisfied: pytz>=2017.2 in /usr/local/lib/python3.6/dist-packages (from pandas>=0.23.4->cudf-cuda100) (2018.9)\n",
            "Requirement already satisfied: python-dateutil>=2.6.1 in /usr/local/lib/python3.6/dist-packages (from pandas>=0.23.4->cudf-cuda100) (2.6.1)\n",
            "Requirement already satisfied: six>=1.0.0 in /usr/local/lib/python3.6/dist-packages (from pyarrow==0.12.1->cudf-cuda100) (1.12.0)\n",
            "Requirement already satisfied: llvmlite>=0.26.0dev0 in /usr/local/lib/python3.6/dist-packages (from numba<0.42,>=0.40.0->cudf-cuda100) (0.31.0)\n"
          ],
          "name": "stdout"
        }
      ]
    },
    {
      "cell_type": "code",
      "metadata": {
        "id": "hIrcMFKPxkkR",
        "colab_type": "code",
        "colab": {}
      },
      "source": [
        "!cp /usr/local/lib/python3.6/dist-packages/librmm.so ."
      ],
      "execution_count": 0,
      "outputs": []
    },
    {
      "cell_type": "code",
      "metadata": {
        "id": "9cJjZcDUxyjj",
        "colab_type": "code",
        "colab": {}
      },
      "source": [
        "# setting up the required environments\n",
        "import os\n",
        "os.environ['NUMBAPRO_NVVM']='/usr/local/cuda-10.0/nvvm/lib64/libnvvm.so'\n",
        "os.environ['NUMBAPRO_LIBDEVICE']='/usr/local/cuda-10.0/nvvm/libdevice'"
      ],
      "execution_count": 0,
      "outputs": []
    },
    {
      "cell_type": "code",
      "metadata": {
        "id": "xj82zl1WE9XO",
        "colab_type": "code",
        "colab": {}
      },
      "source": [
        "import time\n",
        "import numpy as np\n",
        "import pandas as pd\n",
        "import cudf"
      ],
      "execution_count": 0,
      "outputs": []
    },
    {
      "cell_type": "markdown",
      "metadata": {
        "id": "5NFrR_xVFKLh",
        "colab_type": "text"
      },
      "source": [
        "# Read Time Comparision"
      ]
    },
    {
      "cell_type": "code",
      "metadata": {
        "id": "a-rPeDd6FFu8",
        "colab_type": "code",
        "outputId": "25a4e710-84f6-4f55-d2cb-08966047c4a5",
        "colab": {
          "base_uri": "https://localhost:8080/",
          "height": 35
        }
      },
      "source": [
        "s = time.time()\n",
        "df_pandas = pd.read_csv(file_name)\n",
        "e = time.time()\n",
        "pd_time = e - s\n",
        "print(\"Pandas Loading Time = {}\".format(pd_time))"
      ],
      "execution_count": 15,
      "outputs": [
        {
          "output_type": "stream",
          "text": [
            "Pandas Loading Time = 4.076458692550659\n"
          ],
          "name": "stdout"
        }
      ]
    },
    {
      "cell_type": "code",
      "metadata": {
        "id": "F1BvNVAIFNow",
        "colab_type": "code",
        "outputId": "53399f2e-8445-470d-e7cc-ee466559ea94",
        "colab": {
          "base_uri": "https://localhost:8080/",
          "height": 35
        }
      },
      "source": [
        "s = time.time()\n",
        "df_cudf = cudf.read_csv(file_name)\n",
        "e = time.time()\n",
        "cuDF_time = e - s \n",
        "print(\"cuDF Loading Time = {}\".format(cuDF_time))"
      ],
      "execution_count": 16,
      "outputs": [
        {
          "output_type": "stream",
          "text": [
            "cuDF Loading Time = 0.9165005683898926\n"
          ],
          "name": "stdout"
        }
      ]
    },
    {
      "cell_type": "code",
      "metadata": {
        "id": "3qAK1KSvA0vK",
        "colab_type": "code",
        "colab": {
          "base_uri": "https://localhost:8080/",
          "height": 35
        },
        "outputId": "577518ad-9945-4e41-8adf-cd8988096eda"
      },
      "source": [
        "pd_time > cuDF_time"
      ],
      "execution_count": 17,
      "outputs": [
        {
          "output_type": "execute_result",
          "data": {
            "text/plain": [
              "True"
            ]
          },
          "metadata": {
            "tags": []
          },
          "execution_count": 17
        }
      ]
    },
    {
      "cell_type": "code",
      "metadata": {
        "id": "Oa9sHI_wA26i",
        "colab_type": "code",
        "colab": {
          "base_uri": "https://localhost:8080/",
          "height": 35
        },
        "outputId": "2e683f97-2916-47fd-9e54-a386dd554783"
      },
      "source": [
        "pd_time / cuDF_time"
      ],
      "execution_count": 18,
      "outputs": [
        {
          "output_type": "execute_result",
          "data": {
            "text/plain": [
              "4.447851788801592"
            ]
          },
          "metadata": {
            "tags": []
          },
          "execution_count": 18
        }
      ]
    },
    {
      "cell_type": "code",
      "metadata": {
        "id": "pJgOkGe_A071",
        "colab_type": "code",
        "colab": {}
      },
      "source": [
        ""
      ],
      "execution_count": 0,
      "outputs": []
    },
    {
      "cell_type": "markdown",
      "metadata": {
        "id": "F-XwkURQFk1e",
        "colab_type": "text"
      },
      "source": [
        "# Concat Time Comparision"
      ]
    },
    {
      "cell_type": "code",
      "metadata": {
        "id": "CUar8CV7FVis",
        "colab_type": "code",
        "outputId": "54f4b38a-bd8b-4f45-f297-fd174c7f0b0a",
        "colab": {
          "base_uri": "https://localhost:8080/",
          "height": 35
        }
      },
      "source": [
        "s = time.time()\n",
        "df_pandas_concat = pd.concat([df_pandas for _ in range(5)])\n",
        "e = time.time()\n",
        "pd_time = e - s\n",
        "print(\"Pandas Concat Time = {}\".format(pd_time))"
      ],
      "execution_count": 19,
      "outputs": [
        {
          "output_type": "stream",
          "text": [
            "Pandas Concat Time = 2.448513984680176\n"
          ],
          "name": "stdout"
        }
      ]
    },
    {
      "cell_type": "code",
      "metadata": {
        "id": "w2aPRFhGFoan",
        "colab_type": "code",
        "outputId": "261cb157-3fad-43a3-d7a7-7e8edda622f7",
        "colab": {
          "base_uri": "https://localhost:8080/",
          "height": 35
        }
      },
      "source": [
        "s = time.time()\n",
        "df_cudf_concat = cudf.concat([df_cudf for _ in range(5)])\n",
        "e = time.time()\n",
        "cuDF_time = e - s\n",
        "print(\"cuDF Concat Time = {}\".format(cuDF_time))"
      ],
      "execution_count": 20,
      "outputs": [
        {
          "output_type": "stream",
          "text": [
            "cuDF Concat Time = 0.24041986465454102\n"
          ],
          "name": "stdout"
        }
      ]
    },
    {
      "cell_type": "code",
      "metadata": {
        "id": "eYu_ZJjI0CKZ",
        "colab_type": "code",
        "colab": {
          "base_uri": "https://localhost:8080/",
          "height": 35
        },
        "outputId": "24bdbb58-67ca-40ec-c944-ed198fa94722"
      },
      "source": [
        "pd_time > cuDF_time"
      ],
      "execution_count": 21,
      "outputs": [
        {
          "output_type": "execute_result",
          "data": {
            "text/plain": [
              "True"
            ]
          },
          "metadata": {
            "tags": []
          },
          "execution_count": 21
        }
      ]
    },
    {
      "cell_type": "code",
      "metadata": {
        "id": "uWqh9ODMBJjN",
        "colab_type": "code",
        "colab": {
          "base_uri": "https://localhost:8080/",
          "height": 35
        },
        "outputId": "5b1b0d27-07ab-4b01-910f-f33301c0b022"
      },
      "source": [
        "pd_time / cuDF_time"
      ],
      "execution_count": 22,
      "outputs": [
        {
          "output_type": "execute_result",
          "data": {
            "text/plain": [
              "10.184324777815021"
            ]
          },
          "metadata": {
            "tags": []
          },
          "execution_count": 22
        }
      ]
    },
    {
      "cell_type": "code",
      "metadata": {
        "id": "icxp03RGBJnR",
        "colab_type": "code",
        "colab": {}
      },
      "source": [
        ""
      ],
      "execution_count": 0,
      "outputs": []
    },
    {
      "cell_type": "markdown",
      "metadata": {
        "id": "sbBeFbyD0CfM",
        "colab_type": "text"
      },
      "source": [
        "# Mean Value Time Comparision"
      ]
    },
    {
      "cell_type": "code",
      "metadata": {
        "id": "B3939-XqGttc",
        "colab_type": "code",
        "colab": {
          "base_uri": "https://localhost:8080/",
          "height": 52
        },
        "outputId": "392cba64-f995-4f8e-e03d-40a4842f55da"
      },
      "source": [
        "s = time.time()\n",
        "mean_pandas = df_pandas[\"event_time\"].mean()\n",
        "e = time.time()\n",
        "pd_time = e - s\n",
        "print (\"Mean value in Pandas Dataframe = {}\".format(mean_pandas))\n",
        "print(\"Pandas Mean Value Calculation Time = {}\".format(pd_time))"
      ],
      "execution_count": 23,
      "outputs": [
        {
          "output_type": "stream",
          "text": [
            "Mean value in Pandas Dataframe = 501.0634608268819\n",
            "Pandas Mean Value Calculation Time = 0.01664280891418457\n"
          ],
          "name": "stdout"
        }
      ]
    },
    {
      "cell_type": "code",
      "metadata": {
        "id": "iYPxnNmzBeG9",
        "colab_type": "code",
        "colab": {
          "base_uri": "https://localhost:8080/",
          "height": 52
        },
        "outputId": "b80c902d-21e6-44a7-9142-7f99f3cd6b71"
      },
      "source": [
        "s = time.time()\n",
        "max_cudf = df_cudf[\"event_time\"].mean()\n",
        "e = time.time()\n",
        "cuDF_time = e-s\n",
        "print (\"Mean value in DataTable Dataframe = {}\".format(max_cudf))\n",
        "print(\"DataTable Mean Value Calculation Time = {}\".format(cuDF_time))"
      ],
      "execution_count": 24,
      "outputs": [
        {
          "output_type": "stream",
          "text": [
            "Mean value in DataTable Dataframe = 501.0634608268819\n",
            "DataTable Mean Value Calculation Time = 0.003912210464477539\n"
          ],
          "name": "stdout"
        }
      ]
    },
    {
      "cell_type": "code",
      "metadata": {
        "id": "yr8RM8HTBfql",
        "colab_type": "code",
        "colab": {
          "base_uri": "https://localhost:8080/",
          "height": 35
        },
        "outputId": "bbb70e46-0d26-4c34-c0c0-7869efb91a00"
      },
      "source": [
        "pd_time > cuDF_time"
      ],
      "execution_count": 25,
      "outputs": [
        {
          "output_type": "execute_result",
          "data": {
            "text/plain": [
              "True"
            ]
          },
          "metadata": {
            "tags": []
          },
          "execution_count": 25
        }
      ]
    },
    {
      "cell_type": "code",
      "metadata": {
        "id": "bfRfpHMeBvHm",
        "colab_type": "code",
        "colab": {
          "base_uri": "https://localhost:8080/",
          "height": 35
        },
        "outputId": "b30407d4-f68f-493c-8674-290ee3049ccb"
      },
      "source": [
        "pd_time / cuDF_time"
      ],
      "execution_count": 26,
      "outputs": [
        {
          "output_type": "execute_result",
          "data": {
            "text/plain": [
              "4.254067889572795"
            ]
          },
          "metadata": {
            "tags": []
          },
          "execution_count": 26
        }
      ]
    },
    {
      "cell_type": "markdown",
      "metadata": {
        "id": "RNJ3u8AaCL84",
        "colab_type": "text"
      },
      "source": [
        "# Functions of cuDF "
      ]
    },
    {
      "cell_type": "code",
      "metadata": {
        "id": "k1ozEGAIByYc",
        "colab_type": "code",
        "colab": {
          "base_uri": "https://localhost:8080/",
          "height": 1000
        },
        "outputId": "a5429392-3e91-4032-eae9-3efbb858bb3a"
      },
      "source": [
        "dir(df_cudf[\"event_time\"])"
      ],
      "execution_count": 29,
      "outputs": [
        {
          "output_type": "execute_result",
          "data": {
            "text/plain": [
              "['__add__',\n",
              " '__array_ufunc__',\n",
              " '__bool__',\n",
              " '__class__',\n",
              " '__copy__',\n",
              " '__deepcopy__',\n",
              " '__delattr__',\n",
              " '__dict__',\n",
              " '__dir__',\n",
              " '__div__',\n",
              " '__doc__',\n",
              " '__eq__',\n",
              " '__floordiv__',\n",
              " '__format__',\n",
              " '__ge__',\n",
              " '__getattribute__',\n",
              " '__getitem__',\n",
              " '__gt__',\n",
              " '__hash__',\n",
              " '__init__',\n",
              " '__init_subclass__',\n",
              " '__le__',\n",
              " '__len__',\n",
              " '__lt__',\n",
              " '__mod__',\n",
              " '__module__',\n",
              " '__mul__',\n",
              " '__ne__',\n",
              " '__new__',\n",
              " '__pow__',\n",
              " '__radd__',\n",
              " '__reduce__',\n",
              " '__reduce_ex__',\n",
              " '__repr__',\n",
              " '__rfloordiv__',\n",
              " '__rmod__',\n",
              " '__rmul__',\n",
              " '__rsub__',\n",
              " '__rtruediv__',\n",
              " '__setattr__',\n",
              " '__sizeof__',\n",
              " '__str__',\n",
              " '__sub__',\n",
              " '__subclasshook__',\n",
              " '__truediv__',\n",
              " '__weakref__',\n",
              " '_binaryop',\n",
              " '_column',\n",
              " '_concat',\n",
              " '_copy_construct',\n",
              " '_copy_construct_defaults',\n",
              " '_get_mask_as_series',\n",
              " '_index',\n",
              " '_n_largest_or_smallest',\n",
              " '_normalize_binop_value',\n",
              " '_ordered_compare',\n",
              " '_rbinaryop',\n",
              " '_sort',\n",
              " '_unaryop',\n",
              " '_unordered_compare',\n",
              " 'append',\n",
              " 'applymap',\n",
              " 'argsort',\n",
              " 'as_index',\n",
              " 'as_mask',\n",
              " 'astype',\n",
              " 'cat',\n",
              " 'ceil',\n",
              " 'copy',\n",
              " 'count',\n",
              " 'data',\n",
              " 'deserialize',\n",
              " 'digitize',\n",
              " 'dt',\n",
              " 'dtype',\n",
              " 'empty',\n",
              " 'factorize',\n",
              " 'fillna',\n",
              " 'find_first_value',\n",
              " 'find_last_value',\n",
              " 'floor',\n",
              " 'from_arrow',\n",
              " 'from_categorical',\n",
              " 'from_masked_array',\n",
              " 'from_pandas',\n",
              " 'groupby',\n",
              " 'has_null_mask',\n",
              " 'hash_encode',\n",
              " 'hash_values',\n",
              " 'head',\n",
              " 'iloc',\n",
              " 'index',\n",
              " 'label_encoding',\n",
              " 'masked_assign',\n",
              " 'max',\n",
              " 'mean',\n",
              " 'mean_var',\n",
              " 'min',\n",
              " 'name',\n",
              " 'nlargest',\n",
              " 'nsmallest',\n",
              " 'null_count',\n",
              " 'nullmask',\n",
              " 'nunique',\n",
              " 'one_hot_encoding',\n",
              " 'product',\n",
              " 'quantile',\n",
              " 'rename',\n",
              " 'replace',\n",
              " 'reset_index',\n",
              " 'reverse',\n",
              " 'scale',\n",
              " 'serialize',\n",
              " 'set_index',\n",
              " 'set_mask',\n",
              " 'shape',\n",
              " 'sort_index',\n",
              " 'sort_values',\n",
              " 'std',\n",
              " 'str',\n",
              " 'sum',\n",
              " 'sum_of_squares',\n",
              " 'tail',\n",
              " 'take',\n",
              " 'to_array',\n",
              " 'to_arrow',\n",
              " 'to_dlpack',\n",
              " 'to_frame',\n",
              " 'to_gpu_array',\n",
              " 'to_hdf',\n",
              " 'to_json',\n",
              " 'to_pandas',\n",
              " 'to_string',\n",
              " 'unique',\n",
              " 'unique_k',\n",
              " 'valid_count',\n",
              " 'value_counts',\n",
              " 'values_to_string',\n",
              " 'var']"
            ]
          },
          "metadata": {
            "tags": []
          },
          "execution_count": 29
        }
      ]
    },
    {
      "cell_type": "markdown",
      "metadata": {
        "id": "_gUIT-G3CR-V",
        "colab_type": "text"
      },
      "source": [
        "# Sorting"
      ]
    },
    {
      "cell_type": "code",
      "metadata": {
        "id": "b_xNZ2dmBydv",
        "colab_type": "code",
        "colab": {
          "base_uri": "https://localhost:8080/",
          "height": 35
        },
        "outputId": "9b8911e9-1e88-4333-d5e5-fe032bc81c24"
      },
      "source": [
        "s = time.time()\n",
        "df_pandas.sort_values(by='event_time')\n",
        "e = time.time()\n",
        "pd_time = e - s\n",
        "print(\"Pandas Sorting Time = {}\".format(pd_time))"
      ],
      "execution_count": 30,
      "outputs": [
        {
          "output_type": "stream",
          "text": [
            "Pandas Sorting Time = 3.7633862495422363\n"
          ],
          "name": "stdout"
        }
      ]
    },
    {
      "cell_type": "code",
      "metadata": {
        "id": "F5CMF1k3CUxF",
        "colab_type": "code",
        "colab": {
          "base_uri": "https://localhost:8080/",
          "height": 35
        },
        "outputId": "9c60482c-df74-4102-db13-b636c1a534e1"
      },
      "source": [
        "s = time.time()\n",
        "df_cudf['event_time'].sort_values()\n",
        "e = time.time()\n",
        "cuDF_time = e-s\n",
        "print(\"cuDF Sorting Time = {}\".format(cuDF_time))"
      ],
      "execution_count": 31,
      "outputs": [
        {
          "output_type": "stream",
          "text": [
            "cuDF Sorting Time = 0.30028295516967773\n"
          ],
          "name": "stdout"
        }
      ]
    },
    {
      "cell_type": "code",
      "metadata": {
        "id": "nbb_WQ2ICU3M",
        "colab_type": "code",
        "colab": {
          "base_uri": "https://localhost:8080/",
          "height": 35
        },
        "outputId": "8ebb4f87-179a-4d4b-e19e-33790b649bc4"
      },
      "source": [
        "pd_time > cuDF_time"
      ],
      "execution_count": 32,
      "outputs": [
        {
          "output_type": "execute_result",
          "data": {
            "text/plain": [
              "True"
            ]
          },
          "metadata": {
            "tags": []
          },
          "execution_count": 32
        }
      ]
    },
    {
      "cell_type": "code",
      "metadata": {
        "id": "tauAl-J8CU7j",
        "colab_type": "code",
        "colab": {
          "base_uri": "https://localhost:8080/",
          "height": 35
        },
        "outputId": "b19d946a-9642-4083-e40d-0c733f677214"
      },
      "source": [
        "pd_time / cuDF_time"
      ],
      "execution_count": 33,
      "outputs": [
        {
          "output_type": "execute_result",
          "data": {
            "text/plain": [
              "12.532800096547936"
            ]
          },
          "metadata": {
            "tags": []
          },
          "execution_count": 33
        }
      ]
    },
    {
      "cell_type": "code",
      "metadata": {
        "id": "lAaIz3FUCU1S",
        "colab_type": "code",
        "colab": {}
      },
      "source": [
        ""
      ],
      "execution_count": 0,
      "outputs": []
    }
  ]
}